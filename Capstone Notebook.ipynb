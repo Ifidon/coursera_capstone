{
 "cells": [
  {
   "cell_type": "markdown",
   "metadata": {},
   "source": [
    "# Capstone Project - THe Battle of the Neighbourhoods"
   ]
  },
  {
   "cell_type": "markdown",
   "metadata": {},
   "source": [
    "### Introduction\n",
    "\n",
    "In recent times. contries have continue to experience a surge in immigration with individuals and families increasingly resulting to immigration for better opportunities in career, education, healthcare, and a host of others.\n",
    "\n",
    "Research has shown that one of the major challenges facing such immigrants, both at the planning stage and when they eventua;lly arrive at their destination, is the choice of chity/town of settlement. Most people tend to seek out cities/towns that share certain similarities with where they are from as well as, offering opportunities that suit the future plans of them and theor accompanying families.\n",
    "\n",
    "The project aims to develop a possible solution to the problem facing immigrants in tackling this problem by providing a data-driven solution that enables the comparison of two cities to identify similarities or differences, while being able to explore infrastructure, and other amenities in similar cities. It is intended that this data-driven solution will offer some assistance to prospective immigrants in helping them decide on a destination that best suits their preferences."
   ]
  },
  {
   "cell_type": "markdown",
   "metadata": {},
   "source": [
    "### Data\n",
    "\n",
    "This project aims to compare match a sample city (in this case Toronto) with multiple cities in Germany. The aim to identify one or more cities that are very similar to Toronto and, hence explore such similar cities to find schools, hospitals, and identify the type of businesses that are most prevalent in the German city that shares the most similarity with Toronto.\n",
    "\n",
    "To acheive this, I will make use of the Foursquare location data in analyzing and comparing the city of Toronto against the whole of Germany to iudentify cities that share close similarities with Toronto."
   ]
  },
  {
   "cell_type": "code",
   "execution_count": null,
   "metadata": {},
   "outputs": [],
   "source": []
  }
 ],
 "metadata": {
  "kernelspec": {
   "display_name": "Python 3",
   "language": "python",
   "name": "python3"
  },
  "language_info": {
   "codemirror_mode": {
    "name": "ipython",
    "version": 3
   },
   "file_extension": ".py",
   "mimetype": "text/x-python",
   "name": "python",
   "nbconvert_exporter": "python",
   "pygments_lexer": "ipython3",
   "version": "3.7.4"
  }
 },
 "nbformat": 4,
 "nbformat_minor": 2
}
